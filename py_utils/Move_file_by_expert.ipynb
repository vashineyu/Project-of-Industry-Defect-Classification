{
 "cells": [
  {
   "cell_type": "code",
   "execution_count": null,
   "metadata": {
    "collapsed": true
   },
   "outputs": [],
   "source": [
    "\"\"\"\n",
    "Move file based on expert review\n",
    "\"\"\""
   ]
  },
  {
   "cell_type": "code",
   "execution_count": 1,
   "metadata": {
    "collapsed": true
   },
   "outputs": [],
   "source": [
    "import numpy as np\n",
    "import pandas as pd\n",
    "import os\n",
    "import glob\n",
    "import re\n",
    "import shutil"
   ]
  },
  {
   "cell_type": "code",
   "execution_count": 4,
   "metadata": {
    "collapsed": true
   },
   "outputs": [],
   "source": [
    "exp_file = '/data/put_data/seanyu/ccp/expert_review_result/img_modify_on_0724_review_voting_2.csv'\n",
    "d_copper = '/data/put_data/seanyu/ccp/Raw/Copper/'\n",
    "d_noncopper = '/data/put_data/seanyu/ccp/Raw/Non_Copper/'\n"
   ]
  },
  {
   "cell_type": "code",
   "execution_count": 5,
   "metadata": {},
   "outputs": [
    {
     "name": "stdout",
     "output_type": "stream",
     "text": [
      "1118\n",
      "789\n"
     ]
    }
   ],
   "source": [
    "expert_review = pd.read_csv(exp_file)\n",
    "nonCop_to_Cop = list(expert_review[expert_review['ori'] == 'non_copper']['png_name']) # should move from non_cop to cop\n",
    "Cop_to_nonCop = list(expert_review[expert_review['ori'] == 'copper']['png_name']) # should move from cop to non_cop\n",
    "print(len(nonCop_to_Cop))\n",
    "print(len(Cop_to_nonCop))"
   ]
  },
  {
   "cell_type": "code",
   "execution_count": 6,
   "metadata": {},
   "outputs": [
    {
     "data": {
      "text/plain": [
       "0"
      ]
     },
     "execution_count": 6,
     "metadata": {},
     "output_type": "execute_result"
    }
   ],
   "source": [
    "# move file, from copper to non_copper\n",
    "im_in_cop = glob.glob(d_copper + \"/*.png\")\n",
    "im_in_cop = [os.path.basename(i) for i in im_in_cop]\n",
    "\n",
    "\"\"\"\n",
    "Prepare\n",
    "\"\"\"\n",
    "x = 0\n",
    "for i in Cop_to_nonCop:\n",
    "    if i in im_in_cop:\n",
    "        x += 1\n",
    "x"
   ]
  },
  {
   "cell_type": "code",
   "execution_count": 7,
   "metadata": {
    "collapsed": true
   },
   "outputs": [],
   "source": [
    "x = 0\n",
    "for i in Cop_to_nonCop:\n",
    "    if i in im_in_cop:\n",
    "        shutil.move(src=d_copper + i, \n",
    "                    dst= d_noncopper + i)"
   ]
  },
  {
   "cell_type": "code",
   "execution_count": 8,
   "metadata": {},
   "outputs": [
    {
     "data": {
      "text/plain": [
       "0"
      ]
     },
     "execution_count": 8,
     "metadata": {},
     "output_type": "execute_result"
    }
   ],
   "source": [
    "# move file, from copper to non_copper\n",
    "im_in_noncop = glob.glob(d_noncopper + \"/*.png\")\n",
    "im_in_noncop = [os.path.basename(i) for i in im_in_noncop]\n",
    "\n",
    "\"\"\"\n",
    "Prepare\n",
    "\"\"\"\n",
    "x = 0\n",
    "for i in nonCop_to_Cop:\n",
    "    if i in im_in_noncop:\n",
    "        x += 1\n",
    "x"
   ]
  },
  {
   "cell_type": "code",
   "execution_count": 39,
   "metadata": {
    "collapsed": true
   },
   "outputs": [],
   "source": [
    "x = 0\n",
    "for i in nonCop_to_Cop:\n",
    "    if i in im_in_noncop:\n",
    "        shutil.move(src = d_noncopper + i, \n",
    "                    dst = d_copper + i)"
   ]
  },
  {
   "cell_type": "code",
   "execution_count": null,
   "metadata": {
    "collapsed": true
   },
   "outputs": [],
   "source": []
  }
 ],
 "metadata": {
  "kernelspec": {
   "display_name": "Python 3",
   "language": "python",
   "name": "python3"
  },
  "language_info": {
   "codemirror_mode": {
    "name": "ipython",
    "version": 3
   },
   "file_extension": ".py",
   "mimetype": "text/x-python",
   "name": "python",
   "nbconvert_exporter": "python",
   "pygments_lexer": "ipython3",
   "version": "3.5.2"
  }
 },
 "nbformat": 4,
 "nbformat_minor": 2
}
