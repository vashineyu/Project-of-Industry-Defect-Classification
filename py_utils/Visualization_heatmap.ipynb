{
 "cells": [
  {
   "cell_type": "code",
   "execution_count": null,
   "metadata": {
    "collapsed": true
   },
   "outputs": [],
   "source": [
    "\"\"\"\n",
    "CNN\n",
    "This script is used to visualize that why my network decide this image as this class\n",
    "\n",
    "\"\"\""
   ]
  },
  {
   "cell_type": "code",
   "execution_count": null,
   "metadata": {
    "collapsed": true
   },
   "outputs": [],
   "source": []
  },
  {
   "cell_type": "code",
   "execution_count": null,
   "metadata": {},
   "outputs": [],
   "source": [
    "\"\"\"\n",
    "Decide gpu usage\n",
    "\"\"\"\n",
    "%env CUDA_VISIBLE_DEVICES=3\n",
    "this_gpu_use_fraction = 0.5\n",
    "\n",
    "import tensorflow as tf\n",
    "from keras.backend.tensorflow_backend import set_session\n",
    "config = tf.ConfigProto()\n",
    "config.gpu_options.per_process_gpu_memory_fraction = this_gpu_use_fraction\n",
    "set_session(tf.Session(config = config))\n"
   ]
  },
  {
   "cell_type": "code",
   "execution_count": null,
   "metadata": {},
   "outputs": [],
   "source": [
    "\"\"\"\n",
    "import basic libraries and NN-libraries\n",
    "\"\"\"\n",
    "import numpy as np\n",
    "import os\n",
    "import re\n",
    "import time\n",
    "import random\n",
    "import cv2\n",
    "import scipy.misc\n",
    "\n",
    "import matplotlib.pyplot as plt\n",
    "import matplotlib.colors as mcolors\n",
    "from math import ceil\n",
    "import pandas as pd\n",
    "from PIL import Image\n",
    "\n",
    "import keras\n",
    "from keras.models import load_model, Model\n",
    "from keras.applications.resnet50 import preprocess_input\n",
    "from keras.preprocessing.image import array_to_img, img_to_array, load_img\n",
    "import keras.backend as K\n",
    "\n",
    "K.set_learning_phase(0)"
   ]
  },
  {
   "cell_type": "code",
   "execution_count": null,
   "metadata": {
    "collapsed": true
   },
   "outputs": [],
   "source": [
    "def op_img(x, crop_size, output_size):\n",
    "        # crop size: w, h\n",
    "        # output size, w, h, c\n",
    "        crop_w, crop_h = crop_size\n",
    "        out_w, out_h, out_c = output_size\n",
    "        X_ = np.array([ np.array(img_center_crop(Image.open(i), \n",
    "                                                      target_size=(crop_w, crop_h)), dtype='float32') for i in x] )\n",
    "        X_ = np.array([scipy.misc.imresize(i, size=(out_w, out_h)) for i in X_]) # add this line to resize images\n",
    "        X_ = X_.reshape((len(X_), out_w, out_h, out_c))\n",
    "        return X_\n",
    "    \n",
    "def img_center_crop(img, target_size):\n",
    "    # return center cropprd image (not resizing)\n",
    "    # img should be a PIL image object\n",
    "    # target size should be a tuple, eg (224, 224)\n",
    "    width, height = img.size\n",
    "    if width <= target_size[0] and height <= target_size[1]:\n",
    "        return img\n",
    "    left = (width - target_size[0])/2\n",
    "    right = (width + target_size[0])/2\n",
    "    top = (height - target_size[1])/2\n",
    "    bottom = (height + target_size[1])/2\n",
    "    \n",
    "    new_img = img.crop((left, top, right, bottom))\n",
    "    return new_img\n",
    "\n",
    "def transparent_cmap(cmap, N=255):\n",
    "    \"Copy colormap and set alpha values\"\n",
    "    mycmap = cmap\n",
    "    mycmap._init()\n",
    "    mycmap._lut[:,-1] = np.linspace(0, 0.8, N+4)\n",
    "    return mycmap\n",
    "\n",
    "mycmap = transparent_cmap(plt.cm.rainbow)"
   ]
  },
  {
   "cell_type": "code",
   "execution_count": null,
   "metadata": {},
   "outputs": [],
   "source": [
    "K.clear_session()\n",
    "this_model = \"/home/seanyu/project/CCP/model/model_hard_negative_thresh10_gen2_k3.h5\"\n",
    "\n",
    "model = load_model(this_model)\n",
    "#model = model.get_layer('model_1') # if you use multiple gpu to train\n",
    "\n",
    "model.summary()\n",
    "\n",
    "relu_out = Model(inputs= [model.input], outputs = [model.output, model.get_layer('activation_40').output])\n"
   ]
  },
  {
   "cell_type": "code",
   "execution_count": null,
   "metadata": {},
   "outputs": [],
   "source": [
    "outcome_csv = \"/home/seanyu/project/CCP/res_csv/testing_hard_negative_thresh10_gen2_k3.csv\"\n",
    "test = pd.read_csv(outcome_csv)\n",
    "test.head()"
   ]
  },
  {
   "cell_type": "code",
   "execution_count": null,
   "metadata": {},
   "outputs": [],
   "source": [
    "\"\"\"\n",
    "Get false positive and false negative samples\n",
    "\"\"\"\n",
    "posi_thres = 0.95\n",
    "nega_thres = 0.5\n",
    "\n",
    "fp_cases = test[(test.y_true == 0) & (test.y_pred > posi_thres)]\n",
    "fn_cases = test[(test.y_true == 1) & (test.y_pred <= nega_thres)]\n",
    "tp_cases = test[(test.y_true == 1) & (test.y_pred > nega_thres)]\n",
    "tn_cases = test[(test.y_true == 0) & (test.y_pred < posi_thres)]\n",
    "\n",
    "print('numbers of false positve samples under thresold %g : %g' % (posi_thres, len(fp_cases) ))\n",
    "print('numbers of false negative samples under thresold %g : %g' % (nega_thres, len(fn_cases) ))\n",
    "print('numbers of true positve samples under thresold %g : %g' % (nega_thres, len(tp_cases) ))\n",
    "print('numbers of true negative samples under thresold %g : %g' % (posi_thres, len(tn_cases) ))\n",
    "\n",
    "# manually reorder \n",
    "fp_cases = fp_cases.sort_values(by = 'y_pred', ascending= False)\n",
    "fn_cases = fn_cases.sort_values(by = 'y_pred', ascending= True)\n",
    "tp_cases = tp_cases.sort_values(by = 'y_pred', ascending= False)\n",
    "tn_cases = tn_cases.sort_values(by = 'y_pred', ascending= True)"
   ]
  },
  {
   "cell_type": "code",
   "execution_count": null,
   "metadata": {},
   "outputs": [],
   "source": [
    "def feed_in_plot(df_to_plot, nrow_to_go, force_b = True, to_save = False):\n",
    "    # df_to_plot: a data frame (for example: fp_cases / fn_cases)\n",
    "    # nrow_to_go: how many cases to go\n",
    "    # force_b: force_binary?\n",
    "    # to_save: save picture (under current dir, create a folder named: heatmap_plotting)\n",
    "    # return: array to \n",
    "    \n",
    "    #df_to_plot = df_to_plot.sort_values(by = 'y_pred', ascending = False)\n",
    "    df_to_plot = df_to_plot.reset_index(drop = True)\n",
    "    \n",
    "    total_len = len(df_to_plot)\n",
    "    arr = []\n",
    "    # define input size / final size\n",
    "    w, h = 200, 200\n",
    "    y, x = np.mgrid[0:h, 0:w]\n",
    "    \n",
    "    for i in np.arange(len(df_to_plot)):\n",
    "        this_line = df_to_plot.iloc[i] # get a line in the df\n",
    "        \n",
    "        im_to_go = [this_line.png_name]\n",
    "        this_im = op_img(im_to_go, (100, 100), (w, h, 3))\n",
    "        im_ori = this_im.copy()\n",
    "        this_im = this_im.astype('float32')\n",
    "        this_im = preprocess_input(this_im)\n",
    "        result = relu_out.predict(this_im)\n",
    "        \n",
    "        output = result[0] # last layer\n",
    "        filters = result[1] # filter layer\n",
    "        \n",
    "        if force_b:\n",
    "            # force it use the true label case to plot it\n",
    "            output = np.array([0, 0])\n",
    "            output[int(this_line.y_true)] += 1\n",
    "            #output = output.reshape(2,1)\n",
    "        else:\n",
    "            output = output.swapaxes(0, 1)\n",
    "\n",
    "        gap_w = np.dot(model.get_layer('output').get_weights()[0], output)\n",
    "        print(gap_w.shape)\n",
    "        \n",
    "        gap_w = gap_w.reshape(1, 1, 1, filters.shape[-1])\n",
    "        heat_map = gap_w * filters\n",
    "        heat_map = heat_map.sum(axis = 3).reshape(filters.shape[1], filters.shape[2])\n",
    "        heat_map = np.array(Image.fromarray(heat_map.astype('uint8')).resize((200,200), Image.CUBIC))\n",
    "        \n",
    "        im_ori = im_ori.reshape(w, h,3)\n",
    "        heat_map = heat_map.astype('float32')\n",
    "        arr.append(im_ori)\n",
    "        arr.append(heat_map)\n",
    "        \n",
    "        title_text = 'real label: ' + str(int(this_line.y_true)) + ' / Prob(1): ' + str(float(\"{0: .4f}\".format(this_line.y_pred) ))\n",
    "        fig, ax = plt.subplots(nrows=1, ncols= 1)\n",
    "        #fig, ax = plt.subplots(nrows=1, ncols= 2, sharex= True, sharey=True)\n",
    "        #ax.imshow(im_ori)\n",
    "        \n",
    "        ax.imshow(im_ori)\n",
    "        cb = ax.contourf(x, y, heat_map, 5, cmap=mycmap, alpha = 0.15)\n",
    "        ax.set_title(title_text)\n",
    "        ax.axis('off')\n",
    "        plt.show()\n",
    "        \n",
    "        if i >= (nrow_to_go - 1):\n",
    "            break\n",
    "        \n",
    "    return arr"
   ]
  },
  {
   "cell_type": "code",
   "execution_count": null,
   "metadata": {},
   "outputs": [],
   "source": [
    "my_arr = feed_in_plot(fp_cases, nrow_to_go=10, force_b=False)"
   ]
  },
  {
   "cell_type": "code",
   "execution_count": null,
   "metadata": {},
   "outputs": [],
   "source": [
    "def img_combine(img,ncols=5,size=1,path=False):\n",
    "    nimg=len(img)\n",
    "    nrows=int(ceil(nimg/ncols))\n",
    "    fig, axes = plt.subplots(nrows=nrows, ncols=ncols, sharex=True, sharey=True, figsize=(ncols*size,nrows*size))\n",
    "\n",
    "    if nrows==0:\n",
    "        return\n",
    "    elif ncols == 1:\n",
    "        for r, ax in zip(np.arange(nrows), axes):\n",
    "            nth=r\n",
    "            if nth < nimg:\n",
    "                ax.imshow(img[nth],cmap='rainbow')\n",
    "            ax.set_axis_off()\n",
    "    elif nrows==1:\n",
    "        for c, ax in zip(np.arange(ncols), axes):\n",
    "            nth=c\n",
    "            if nth < nimg:\n",
    "                ax.imshow(img[nth],cmap='rainbow' )\n",
    "            ax.set_axis_off()\n",
    "    else:\n",
    "        for r, row in zip(np.arange(nrows), axes):\n",
    "            for c, ax in zip(np.arange(ncols), row):\n",
    "                nth=r*ncols+c\n",
    "                if nth < nimg:\n",
    "                    ax.imshow(img[nth],cmap='rainbow')\n",
    "                ax.set_axis_off()\n",
    "    \n",
    "    if path:\n",
    "        plt.savefig(path, dpi = 300)\n",
    "    plt.show()"
   ]
  },
  {
   "cell_type": "code",
   "execution_count": null,
   "metadata": {},
   "outputs": [],
   "source": []
  },
  {
   "cell_type": "code",
   "execution_count": null,
   "metadata": {},
   "outputs": [],
   "source": [
    "img_combine(my_arr, ncols=4, size=4, path=False)"
   ]
  },
  {
   "cell_type": "code",
   "execution_count": null,
   "metadata": {},
   "outputs": [],
   "source": [
    "force_binary = [1, 0] # [] /  [0, 1] / [1, 0]\n",
    "\n",
    "im_to_go = [test.iloc[2].png_name]\n",
    "this_im = op_img(im_to_go, (100, 100), (200, 200, 3))\n",
    "im_ori = this_im.copy()\n",
    "this_im = this_im.astype('float32')\n",
    "this_im = preprocess_input(this_im)\n",
    "result = relu_out.predict(this_im)\n",
    "\n",
    "output = result[0] # last layer\n",
    "filters = result[1] # filter layer\n",
    "\n",
    "\n",
    "if force_binary:\n",
    "    output = np.array(force_binary)\n",
    "else:\n",
    "    output = output.swapaxes(0, 1)\n",
    "\n",
    "gap_w = np.dot(model.get_layer('output').get_weights()[0], output)\n",
    "print(gap_w.shape)\n",
    "\n",
    "gap_w = gap_w.reshape(1, 1, 1, filters.shape[-1])\n",
    "heat_map = gap_w * filters\n",
    "heat_map = heat_map.sum(axis = 3).reshape(filters.shape[1], filters.shape[2])\n",
    "heat_map = np.array(Image.fromarray(heat_map.astype('uint8')).resize((200,200), Image.CUBIC))\n",
    "\n",
    "\n",
    "im_ori = im_ori.reshape(200, 200,3)\n",
    "heat_map = heat_map.astype('float')\n",
    "\n",
    "w, h = 200, 200\n",
    "y, x = np.mgrid[0:h, 0:w]\n",
    "\n",
    "fig, ax = plt.subplots(1, 1)\n",
    "ax.imshow(im_ori)\n",
    "cb = ax.contourf(x, y, heat_map, 5, cmap=mycmap, alpha = 0.15)\n",
    "ax.axis('off')\n",
    "#plt.colorbar(cb)\n",
    "plt.show()"
   ]
  },
  {
   "cell_type": "code",
   "execution_count": null,
   "metadata": {
    "collapsed": true
   },
   "outputs": [],
   "source": []
  },
  {
   "cell_type": "code",
   "execution_count": null,
   "metadata": {
    "collapsed": true
   },
   "outputs": [],
   "source": [
    "\n",
    "\n"
   ]
  },
  {
   "cell_type": "code",
   "execution_count": null,
   "metadata": {
    "collapsed": true
   },
   "outputs": [],
   "source": []
  },
  {
   "cell_type": "code",
   "execution_count": null,
   "metadata": {
    "collapsed": true
   },
   "outputs": [],
   "source": []
  },
  {
   "cell_type": "code",
   "execution_count": null,
   "metadata": {
    "collapsed": true
   },
   "outputs": [],
   "source": []
  },
  {
   "cell_type": "code",
   "execution_count": null,
   "metadata": {
    "collapsed": true
   },
   "outputs": [],
   "source": [
    "im_ori.size"
   ]
  }
 ],
 "metadata": {
  "kernelspec": {
   "display_name": "Python 3",
   "language": "python",
   "name": "python3"
  },
  "language_info": {
   "codemirror_mode": {
    "name": "ipython",
    "version": 3
   },
   "file_extension": ".py",
   "mimetype": "text/x-python",
   "name": "python",
   "nbconvert_exporter": "python",
   "pygments_lexer": "ipython3",
   "version": "3.5.2"
  }
 },
 "nbformat": 4,
 "nbformat_minor": 2
}
