{
 "cells": [
  {
   "cell_type": "code",
   "execution_count": null,
   "metadata": {
    "collapsed": true
   },
   "outputs": [],
   "source": [
    "\"\"\"\n",
    "This script is used to crop image that have black border\n",
    "\"\"\""
   ]
  },
  {
   "cell_type": "code",
   "execution_count": 1,
   "metadata": {
    "collapsed": true
   },
   "outputs": [],
   "source": [
    "import numpy as np\n",
    "import os\n",
    "from PIL import Image\n",
    "import glob\n",
    "\n",
    "def im_preCrop_90(img):\n",
    "    im = Image.open(img)\n",
    "    if im.size == (100, 100):\n",
    "        im_out = im.crop((5, 5, 95, 95))\n",
    "    else:\n",
    "        \"\"\"\n",
    "        # force take middle\n",
    "        w, h = im.size\n",
    "        w_center = w // 2\n",
    "        h_center = h // 2\n",
    "        im_out = im.crop((w_center - 45, h_center - 45, w_center + 45, h_center + 45))\n",
    "        \"\"\"\n",
    "        # force resize it to 100 x 100\n",
    "        im = im.resize((100,100))\n",
    "        im_out = im.crop((5,5,95,95))\n",
    "    im_out = im_out.resize((100, 100))\n",
    "        \n",
    "    return im_out"
   ]
  },
  {
   "cell_type": "code",
   "execution_count": 6,
   "metadata": {},
   "outputs": [
    {
     "name": "stdout",
     "output_type": "stream",
     "text": [
      "Folder not exist, create one\n"
     ]
    }
   ],
   "source": [
    "d_in = \"/data/put_data/seanyu/ccp/Raw/unclean/moving_0925/non_copper_17a08//\"\n",
    "d_out = \"/data/put_data/seanyu/ccp/Raw/unclean/moving_0925/cropped_non_copper_17a08/\"\n",
    "\n",
    "if not os.path.exists(d_out):\n",
    "    print(\"Folder not exist, create one\")\n",
    "    os.makedirs(d_out)\n",
    "else:\n",
    "    print(\"Folder has already exist\")\n"
   ]
  },
  {
   "cell_type": "code",
   "execution_count": 7,
   "metadata": {},
   "outputs": [
    {
     "data": {
      "text/plain": [
       "7132"
      ]
     },
     "execution_count": 7,
     "metadata": {},
     "output_type": "execute_result"
    }
   ],
   "source": [
    "all_images = glob.glob(d_in + \"*.png\")\n",
    "len(all_images)"
   ]
  },
  {
   "cell_type": "code",
   "execution_count": 8,
   "metadata": {},
   "outputs": [
    {
     "name": "stdout",
     "output_type": "stream",
     "text": [
      "we've done 0 images\n",
      "we've done 1000 images\n",
      "we've done 2000 images\n",
      "we've done 3000 images\n",
      "we've done 4000 images\n",
      "we've done 5000 images\n",
      "we've done 6000 images\n",
      "we've done 7000 images\n"
     ]
    }
   ],
   "source": [
    "counter = 0\n",
    "for ix in all_images:\n",
    "    # loop over all img path\n",
    "    idd = os.path.basename(ix)\n",
    "    this_im = im_preCrop_90(ix)\n",
    "    this_im.save(d_out + idd) # folder path + img name\n",
    "    if counter % 1000 == 0:\n",
    "        print(\"we've done %g images\" % (counter))\n",
    "    counter += 1\n",
    "    "
   ]
  }
 ],
 "metadata": {
  "kernelspec": {
   "display_name": "Python 3",
   "language": "python",
   "name": "python3"
  },
  "language_info": {
   "codemirror_mode": {
    "name": "ipython",
    "version": 3
   },
   "file_extension": ".py",
   "mimetype": "text/x-python",
   "name": "python",
   "nbconvert_exporter": "python",
   "pygments_lexer": "ipython3",
   "version": "3.5.2"
  }
 },
 "nbformat": 4,
 "nbformat_minor": 2
}
