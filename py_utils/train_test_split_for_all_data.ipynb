{
 "cells": [
  {
   "cell_type": "code",
   "execution_count": null,
   "metadata": {},
   "outputs": [],
   "source": [
    "\"\"\"\n",
    "- This notebook is used to move files for images\n",
    "- Do it on all dataset\n",
    "\n",
    "- Need: meta-data merge (of copper and non-copper)\n",
    "- Image folder\n",
    "\n",
    "- Logic:\n",
    "move copper / non-copper images based on meta-data \n",
    "(find the date Y of x% copper images, and use that Y to separate train / test)\n",
    "\n",
    "# add function:\n",
    "if we've already separate them once, when we want to recut x%\n",
    "--> merge copper_train, copper_test into a folde -> redo the cutting again\n",
    "\n",
    "\"\"\""
   ]
  },
  {
   "cell_type": "code",
   "execution_count": 1,
   "metadata": {},
   "outputs": [
    {
     "ename": "NameError",
     "evalue": "name 'glob' is not defined",
     "output_type": "error",
     "traceback": [
      "\u001b[0;31m---------------------------------------------------------------------------\u001b[0m",
      "\u001b[0;31mNameError\u001b[0m                                 Traceback (most recent call last)",
      "\u001b[0;32m<ipython-input-1-b7e71a995579>\u001b[0m in \u001b[0;36m<module>\u001b[0;34m()\u001b[0m\n\u001b[1;32m      3\u001b[0m \"\"\"\n\u001b[1;32m      4\u001b[0m \u001b[0;34m\u001b[0m\u001b[0m\n\u001b[0;32m----> 5\u001b[0;31m \u001b[0mxxx\u001b[0m \u001b[0;34m=\u001b[0m \u001b[0mglob\u001b[0m\u001b[0;34m.\u001b[0m\u001b[0mglob\u001b[0m\u001b[0;34m(\u001b[0m\u001b[0;34m\"/data/put_data/seanyu/ccp/Raw/Non_Copper/*.png\"\u001b[0m\u001b[0;34m)\u001b[0m\u001b[0;34m\u001b[0m\u001b[0m\n\u001b[0m\u001b[1;32m      6\u001b[0m \u001b[0mxxx\u001b[0m \u001b[0;34m=\u001b[0m \u001b[0;34m[\u001b[0m\u001b[0mos\u001b[0m\u001b[0;34m.\u001b[0m\u001b[0mpath\u001b[0m\u001b[0;34m.\u001b[0m\u001b[0mbasename\u001b[0m\u001b[0;34m(\u001b[0m\u001b[0mi\u001b[0m\u001b[0;34m)\u001b[0m \u001b[0;32mfor\u001b[0m \u001b[0mi\u001b[0m \u001b[0;32min\u001b[0m \u001b[0mxxx\u001b[0m\u001b[0;34m]\u001b[0m\u001b[0;34m\u001b[0m\u001b[0m\n\u001b[1;32m      7\u001b[0m \u001b[0;34m\u001b[0m\u001b[0m\n",
      "\u001b[0;31mNameError\u001b[0m: name 'glob' is not defined"
     ]
    }
   ],
   "source": [
    "\"\"\"\n",
    "Testing Block\n",
    "\"\"\"\n",
    "\n",
    "xxx = glob.glob(\"/data/put_data/seanyu/ccp/Raw/Non_Copper/*.png\")\n",
    "xxx = [os.path.basename(i) for i in xxx]\n",
    "\n",
    "arr = []\n",
    "for i in xxx:\n",
    "    if i in list(df_non_copper.pid):\n",
    "        pass\n",
    "    else:\n",
    "        arr.append(i)\n",
    "\n",
    "\"\"\"\n",
    "for i in arr:\n",
    "    shutil.move(src='/data/put_data/seanyu/ccp/Raw/Copper/' + i, \n",
    "                             dst='/data/put_data/seanyu/ccp/Raw/i_am_test/' + i)\n",
    "\"\"\"\n",
    "#a = pd.DataFrame({'pid' : arr})\n",
    "#a.to_csv(\"missed_copper.csv\")\n",
    "len(arr)"
   ]
  },
  {
   "cell_type": "code",
   "execution_count": 2,
   "metadata": {},
   "outputs": [
    {
     "ename": "NameError",
     "evalue": "name 'df_copper' is not defined",
     "output_type": "error",
     "traceback": [
      "\u001b[0;31m---------------------------------------------------------------------------\u001b[0m",
      "\u001b[0;31mNameError\u001b[0m                                 Traceback (most recent call last)",
      "\u001b[0;32m<ipython-input-2-2536de3a37a5>\u001b[0m in \u001b[0;36m<module>\u001b[0;34m()\u001b[0m\n\u001b[0;32m----> 1\u001b[0;31m \u001b[0mdf_copper\u001b[0m\u001b[0;34m.\u001b[0m\u001b[0mshape\u001b[0m\u001b[0;34m\u001b[0m\u001b[0m\n\u001b[0m",
      "\u001b[0;31mNameError\u001b[0m: name 'df_copper' is not defined"
     ]
    }
   ],
   "source": [
    "df_copper.shape"
   ]
  },
  {
   "cell_type": "code",
   "execution_count": 3,
   "metadata": {
    "collapsed": true
   },
   "outputs": [],
   "source": [
    "import os\n",
    "import glob\n",
    "import numpy as np\n",
    "import scipy as sp\n",
    "import pandas as pd\n",
    "import shutil\n",
    "import datetime\n",
    "import time"
   ]
  },
  {
   "cell_type": "code",
   "execution_count": 4,
   "metadata": {},
   "outputs": [
    {
     "name": "stdout",
     "output_type": "stream",
     "text": [
      "base dir has already exist\n"
     ]
    }
   ],
   "source": [
    "# meta-data of all images\n",
    "f_meta_copper = '/data/put_data/seanyu/ccp/Copper_meta_revised_0809.csv'\n",
    "f_meta_non_copper = '/data/put_data/seanyu/ccp/Non_copper_meta_revised_0809.csv'\n",
    "\n",
    "# source of all images\n",
    "copper_img_src = '/data/put_data/seanyu/ccp/Raw/Copper/'\n",
    "non_copper_img_src = '/data/put_data/seanyu/ccp/Raw/Non_Copper/'\n",
    "\n",
    "# where to put split images\n",
    "d_base = '/data/put_data/seanyu/ccp/clean_date_cut/'\n",
    "\n",
    "# how many percentage to become testing set\n",
    "thres = 0.5\n",
    "\n",
    "# to kill old images?\n",
    "kill_old = False\n",
    "\n",
    "#----------------------#\n",
    "# start check folder path\n",
    "if not os.path.exists(d_base):\n",
    "    os.mkdir(d_base)\n",
    "else:\n",
    "    print('base dir has already exist')\n",
    "\n",
    "if not os.path.exists(d_base + '/thres' + str(int(thres * 100))):\n",
    "    os.mkdir(d_base + '/thres' + str(int(thres * 100)))\n",
    "else:\n",
    "    print('base dir lv2 has already exist')\n",
    "    \n",
    "# define target folders\n",
    "dst_copper_train = d_base + '/thres' + str(int(thres * 100)) + '/copper_train/'\n",
    "dst_copper_test = d_base + '/thres' + str(int(thres * 100)) + '/copper_test/'\n",
    "dst_non_copper_train = d_base + '/thres' + str(int(thres * 100)) + '/non_copper_train/'\n",
    "dst_non_copper_test = d_base + '/thres' + str(int(thres * 100)) + '/non_copper_test/'\n",
    "\n",
    "if kill_old:\n",
    "    shutil.rmtree(dst_copper_train)\n",
    "    shutil.rmtree(dst_copper_test)\n",
    "    shutil.rmtree(dst_non_copper_train)\n",
    "    shutil.rmtree(dst_non_copper_test)\n",
    "else:\n",
    "    pass\n",
    "\n",
    "# generate folder\n",
    "os.mkdir(dst_copper_train) if not os.path.exists(dst_copper_train) else 'NO'\n",
    "os.mkdir(dst_copper_test) if not os.path.exists(dst_copper_test) else 'NO'\n",
    "os.mkdir(dst_non_copper_train) if not os.path.exists(dst_non_copper_train) else 'NO'\n",
    "os.mkdir(dst_non_copper_test) if not os.path.exists(dst_non_copper_test) else 'NO'\n",
    "\n",
    "# read meta-data\n",
    "df_copper = pd.read_csv(f_meta_copper)\n",
    "df_non_copper = pd.read_csv(f_meta_non_copper)"
   ]
  },
  {
   "cell_type": "code",
   "execution_count": 5,
   "metadata": {},
   "outputs": [
    {
     "name": "stdout",
     "output_type": "stream",
     "text": [
      "Empty DataFrame\n",
      "Columns: [pid, position_x, position_y, width, height, area, perimeter, is_copper_defect, datetime, white_area, max_gray, avg_gray, srcid, real_defect]\n",
      "Index: []\n",
      "------\n",
      "Empty DataFrame\n",
      "Columns: [pid, position_x, position_y, width, height, area, perimeter, is_copper_defect, datetime, white_area, max_gray, avg_gray, srcid, real_defect]\n",
      "Index: []\n"
     ]
    }
   ],
   "source": [
    "# check duplicate\n",
    "print(df_copper[df_copper.duplicated('pid')])\n",
    "print('------')\n",
    "print(df_non_copper[df_non_copper.duplicated('pid')])"
   ]
  },
  {
   "cell_type": "code",
   "execution_count": 6,
   "metadata": {},
   "outputs": [
    {
     "name": "stdout",
     "output_type": "stream",
     "text": [
      "ratio of copper train/test: 0.4966514297863293/0.5033485702136706\n",
      "ratio of non-copper train/test: 0.3292087311404256/0.6707912688595744\n"
     ]
    }
   ],
   "source": [
    "df_copper['date'] = [time.strptime(i.split(\" \")[0], '%Y/%m/%d') for i in list(df_copper.datetime)]\n",
    "df_non_copper['date'] = [time.strptime(j.split(\" \")[0], '%Y/%m/%d') for j in list(df_non_copper.datetime)]\n",
    "\n",
    "# sort by date and reset the index\n",
    "df_copper = df_copper.sort_values('date', ascending=False)\n",
    "df_non_copper = df_non_copper.sort_values('date', ascending=False)\n",
    "df_copper = df_copper.reset_index(drop = True)\n",
    "df_non_copper = df_non_copper.reset_index(drop = True)\n",
    "\n",
    "#df_copper['date'][0] < time.strptime('2016/03/01', '%Y/%m/%d')\n",
    "cut_date = df_copper.iloc[int(len(df_copper) * thres)]['date']\n",
    "df_copper_test = df_copper[df_copper['date'] >= cut_date]\n",
    "df_copper_train = df_copper[df_copper['date'] < cut_date]\n",
    "\n",
    "df_non_copper_test = df_non_copper[df_non_copper['date'] >= cut_date]\n",
    "df_non_copper_train = df_non_copper[df_non_copper['date'] < cut_date]\n",
    "\n",
    "# check ratio of data set\n",
    "print('ratio of copper train/test: ' + str(len(df_copper_train)/np.float(len(df_copper)) ) + '/' + str(len(df_copper_test)/np.float(len(df_copper)) ))\n",
    "print('ratio of non-copper train/test: ' + str(len(df_non_copper_train)/np.float(len(df_non_copper)) ) + '/' + str(len(df_non_copper_test)/np.float(len(df_non_copper)) ))\n"
   ]
  },
  {
   "cell_type": "code",
   "execution_count": 7,
   "metadata": {},
   "outputs": [
    {
     "name": "stdout",
     "output_type": "stream",
     "text": [
      "done, numbers of transfer failed: 0\n",
      "done, numbers of transfer failed: 0\n",
      "done, numbers of transfer failed: 0\n",
      "done, numbers of transfer failed: 10245\n"
     ]
    }
   ],
   "source": [
    "# don't save meta-data --> force use taking data from dir\n",
    "def copy_images(dir_src, dir_dst, df_go):\n",
    "    im_list = list(df_go.pid)\n",
    "    n_fail = 0\n",
    "    for i in im_list:\n",
    "        im_src = dir_src + '/' + i\n",
    "        im_dst = dir_dst + '/' + i\n",
    "        try:\n",
    "            shutil.copyfile(src= im_src, dst= im_dst)\n",
    "        except IOError:\n",
    "            n_fail += 1\n",
    "    print('done, numbers of transfer failed: ' + str(n_fail))\n",
    "\n",
    "copy_images(dir_src = copper_img_src, dir_dst = dst_copper_train, df_go = df_copper_train)\n",
    "copy_images(dir_src = copper_img_src, dir_dst = dst_copper_test, df_go = df_copper_test)\n",
    "copy_images(dir_src = non_copper_img_src, dir_dst = dst_non_copper_train, df_go = df_non_copper_train)\n",
    "copy_images(dir_src = non_copper_img_src, dir_dst = dst_non_copper_test, df_go = df_non_copper_test)"
   ]
  },
  {
   "cell_type": "code",
   "execution_count": null,
   "metadata": {
    "collapsed": true
   },
   "outputs": [],
   "source": [
    "###"
   ]
  },
  {
   "cell_type": "code",
   "execution_count": null,
   "metadata": {},
   "outputs": [],
   "source": [
    "non_copper_img_src\n",
    "im_non_copper_all = glob.glob(non_copper_img_src + '/*.png')\n",
    "print(len(im_non_copper_all))\n",
    "print(df_non_copper.shape)\n",
    "im_non_copper_all = [os.path.basename(i) for i in im_non_copper_all]"
   ]
  },
  {
   "cell_type": "code",
   "execution_count": null,
   "metadata": {
    "collapsed": true
   },
   "outputs": [],
   "source": [
    "x = list(set(list(df_non_copper.pid) ) - set(im_non_copper_all))"
   ]
  },
  {
   "cell_type": "code",
   "execution_count": null,
   "metadata": {},
   "outputs": [],
   "source": [
    "ind = 0\n",
    "for i in x:\n",
    "    if os.path.exists(copper_img_src + i):\n",
    "        ind += 1\n",
    "        \n",
    "ind"
   ]
  },
  {
   "cell_type": "code",
   "execution_count": null,
   "metadata": {},
   "outputs": [],
   "source": [
    "## 139 images should modify the meta-data --> change the is_copper_defect to 'N' (path is correct, current in the non-copper)\n",
    "x"
   ]
  }
 ],
 "metadata": {
  "kernelspec": {
   "display_name": "Python 3",
   "language": "python",
   "name": "python3"
  },
  "language_info": {
   "codemirror_mode": {
    "name": "ipython",
    "version": 3
   },
   "file_extension": ".py",
   "mimetype": "text/x-python",
   "name": "python",
   "nbconvert_exporter": "python",
   "pygments_lexer": "ipython3",
   "version": "3.5.2"
  }
 },
 "nbformat": 4,
 "nbformat_minor": 2
}
