{
 "cells": [
  {
   "cell_type": "code",
   "execution_count": 1,
   "metadata": {},
   "outputs": [
    {
     "data": {
      "text/plain": [
       "'\\nuse this script to grab false classified samples\\n'"
      ]
     },
     "execution_count": 1,
     "metadata": {},
     "output_type": "execute_result"
    }
   ],
   "source": [
    "\"\"\"\n",
    "use this script to grab false classified samples\n",
    "\"\"\""
   ]
  },
  {
   "cell_type": "code",
   "execution_count": 1,
   "metadata": {
    "collapsed": true
   },
   "outputs": [],
   "source": [
    "# libs import\n",
    "import csv\n",
    "import pandas as pd\n",
    "import shutil\n",
    "import os\n",
    "import numpy as np\n",
    "import math\n",
    "import glob"
   ]
  },
  {
   "cell_type": "code",
   "execution_count": 8,
   "metadata": {},
   "outputs": [
    {
     "name": "stdout",
     "output_type": "stream",
     "text": [
      "['fns_0.1', 'testing_model_dataRefined_fc128_innDrp0.1_k3.csv', 'fns_0.5', 'testing_model_dataRefined_fc128_innDrp0.1_k4.csv', 'fps_0.99', 'model_result_recording_fp0.99_fn0.5.csv', 'testing_model_dataRefined_fc128_innDrp0.1_k1.csv', 'testing_model_dataRefined_fc128_innDrp0.1_k5.csv', 'testing_model_dataRefined_fc128_innDrp0.1_k2.csv']\n"
     ]
    }
   ],
   "source": [
    "# parameter setting\n",
    "dir_src = '/home/gtx980/Desktop/CCP/Results/negative_samples/0714_5fold//'\n",
    "\n",
    "fp_crit = 0.99\n",
    "fn_crit = 0.1\n",
    "\n",
    "##\n",
    "dir_fp = dir_src + 'fps_' + str(fp_crit) + '/'\n",
    "dir_fn = dir_src + 'fns_' + str(fn_crit) + '/'\n",
    "vis_merge = dir_src + 'merge/'\n",
    "\n",
    "###\n",
    "# create dst dir if not exist\n",
    "if not os.path.exists(dir_fp):\n",
    "    os.makedirs(dir_fp)\n",
    "    \n",
    "if not os.path.exists(dir_fn):\n",
    "    os.makedirs(dir_fn)\n",
    "    \n",
    "    \n",
    "print(os.listdir(dir_src))"
   ]
  },
  {
   "cell_type": "code",
   "execution_count": 9,
   "metadata": {},
   "outputs": [
    {
     "name": "stdout",
     "output_type": "stream",
     "text": [
      "['/home/gtx980/Desktop/CCP/Results/negative_samples/0714_5fold/testing_model_dataRefined_fc128_innDrp0.1_k3.csv', '/home/gtx980/Desktop/CCP/Results/negative_samples/0714_5fold/testing_model_dataRefined_fc128_innDrp0.1_k4.csv', '/home/gtx980/Desktop/CCP/Results/negative_samples/0714_5fold/testing_model_dataRefined_fc128_innDrp0.1_k1.csv', '/home/gtx980/Desktop/CCP/Results/negative_samples/0714_5fold/testing_model_dataRefined_fc128_innDrp0.1_k5.csv', '/home/gtx980/Desktop/CCP/Results/negative_samples/0714_5fold/testing_model_dataRefined_fc128_innDrp0.1_k2.csv']\n",
      "                                            png_name    y_pred  y_true\n",
      "0  /home/gtx980/Desktop/CCP/Data/DataSet_3/Clean_...  0.000222     0.0\n",
      "1  /home/gtx980/Desktop/CCP/Data/DataSet_3/Clean_...  0.815540     0.0\n",
      "2  /home/gtx980/Desktop/CCP/Data/DataSet_3/Clean_...  0.000065     0.0\n",
      "3  /home/gtx980/Desktop/CCP/Data/DataSet_3/Clean_...  0.000189     0.0\n",
      "4  /home/gtx980/Desktop/CCP/Data/DataSet_3/Clean_...  0.000285     0.0\n"
     ]
    }
   ],
   "source": [
    "# merge all results files\n",
    "result_files = glob.glob(dir_src + \"testing*.csv\")\n",
    "print(result_files)\n",
    "pd_all = pd.DataFrame()\n",
    "for f in result_files:\n",
    "    tmp = pd.read_csv(f)\n",
    "    pd_all = pd.concat((pd_all, tmp))\n",
    "print(pd_all.head())"
   ]
  },
  {
   "cell_type": "code",
   "execution_count": 10,
   "metadata": {},
   "outputs": [
    {
     "name": "stdout",
     "output_type": "stream",
     "text": [
      "820\n",
      "50\n"
     ]
    }
   ],
   "source": [
    "#pd_all['y_true'] == 0 \n",
    "fps = list(pd_all[(pd_all.y_pred >= fp_crit) & (pd_all.y_true == 0)].png_name)\n",
    "fns = list(pd_all[(pd_all.y_pred < fn_crit) & (pd_all.y_true == 1)].png_name)\n",
    "print(len(fps))\n",
    "print(len(fns))"
   ]
  },
  {
   "cell_type": "code",
   "execution_count": 11,
   "metadata": {
    "collapsed": true
   },
   "outputs": [],
   "source": [
    "## deal with fps\n",
    "ix = 0\n",
    "for fimg in fps:\n",
    "    fname = os.path.basename(fimg)\n",
    "    #oname = dir_fp + 'prob_' + str(fp_prob[ix]) + '_' + fname # if we need output prob\n",
    "    oname = dir_fp + fname\n",
    "    shutil.copyfile(fimg, oname)\n",
    "    ix += 1"
   ]
  },
  {
   "cell_type": "code",
   "execution_count": 12,
   "metadata": {
    "collapsed": true
   },
   "outputs": [],
   "source": [
    "## deal with fns\n",
    "ix = 0\n",
    "for fimg in fns:\n",
    "    fname = os.path.basename(fimg)\n",
    "    #oname = dir_fn + 'prob_' + str(fn_prob[ix]) + '_' + fname\n",
    "    oname = dir_fn + fname\n",
    "    shutil.copyfile(fimg, oname)\n",
    "    ix += 1"
   ]
  },
  {
   "cell_type": "code",
   "execution_count": 13,
   "metadata": {
    "collapsed": true
   },
   "outputs": [],
   "source": [
    "# output csv to record it\n",
    "out_fname = dir_src + 'model_result_recording_fp' + str(fp_crit) + '_fn' + str(fn_crit) + '.csv'\n",
    "\n",
    "pd_fn = pd.DataFrame({'png_name': fns,\n",
    "                      'model_predict': np.zeros(len(fns))})\n",
    "pd_fp = pd.DataFrame({'png_name': fps,\n",
    "                      'model_predict': np.ones(len(fps))})\n",
    "pd_out = pd.concat((pd_fn, pd_fp))\n",
    "pd_out.reset_index(drop = True)\n",
    "pd_out.to_csv(out_fname)"
   ]
  },
  {
   "cell_type": "code",
   "execution_count": null,
   "metadata": {},
   "outputs": [],
   "source": []
  }
 ],
 "metadata": {
  "kernelspec": {
   "display_name": "Python 3",
   "language": "python",
   "name": "python3"
  },
  "language_info": {
   "codemirror_mode": {
    "name": "ipython",
    "version": 2
   },
   "file_extension": ".py",
   "mimetype": "text/x-python",
   "name": "python",
   "nbconvert_exporter": "python",
   "pygments_lexer": "ipython2",
   "version": "2.7.12"
  }
 },
 "nbformat": 4,
 "nbformat_minor": 2
}
